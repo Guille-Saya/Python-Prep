{
 "cells": [
  {
   "attachments": {},
   "cell_type": "markdown",
   "metadata": {},
   "source": [
    "## Flujos de Control"
   ]
  },
  {
   "attachments": {},
   "cell_type": "markdown",
   "metadata": {},
   "source": [
    "1) Crear una variable que contenga un elemento del conjunto de números enteros y luego imprimir por pantalla si es mayor o menor a cero"
   ]
  },
  {
   "cell_type": "code",
   "execution_count": 4,
   "metadata": {},
   "outputs": [
    {
     "name": "stdout",
     "output_type": "stream",
     "text": [
      "El numer  5 es menor a 0\n"
     ]
    }
   ],
   "source": [
    "a = 5\n",
    "if a > 0 :\n",
    "    print(\"El numer \",a, \"es menor a 0\")\n",
    "elif a < 0:\n",
    "    print(\"El numero \",a, \"es mayor a 0\")\n",
    "else:\n",
    "    print(\"El numero es 0\")    "
   ]
  },
  {
   "attachments": {},
   "cell_type": "markdown",
   "metadata": {},
   "source": [
    "2) Crear dos variables y un condicional que informe si son del mismo tipo de dato"
   ]
  },
  {
   "cell_type": "code",
   "execution_count": 27,
   "metadata": {},
   "outputs": [
    {
     "name": "stdout",
     "output_type": "stream",
     "text": [
      "Los numeros no son del mismo tipo\n"
     ]
    }
   ],
   "source": [
    "b = 5\n",
    "c = '5'\n",
    "if (type(5)) == (type('5')):\n",
    "    print('Los numeros son del mismo tipo')\n",
    "else: \n",
    "    print('Los numeros no son del mismo tipo')"
   ]
  },
  {
   "attachments": {},
   "cell_type": "markdown",
   "metadata": {},
   "source": [
    "3) Para los valores enteros del 1 al 20, imprimir por pantalla si es par o impar"
   ]
  },
  {
   "cell_type": "code",
   "execution_count": 21,
   "metadata": {},
   "outputs": [
    {
     "name": "stdout",
     "output_type": "stream",
     "text": [
      "El numero  1 es impar\n",
      "El numero  2 es par.\n",
      "El numero  3 es impar\n",
      "El numero  4 es par.\n",
      "El numero  5 es impar\n",
      "El numero  6 es par.\n",
      "El numero  7 es impar\n",
      "El numero  8 es par.\n",
      "El numero  9 es impar\n",
      "El numero  10 es par.\n",
      "El numero  11 es impar\n",
      "El numero  12 es par.\n",
      "El numero  13 es impar\n",
      "El numero  14 es par.\n",
      "El numero  15 es impar\n",
      "El numero  16 es par.\n",
      "El numero  17 es impar\n",
      "El numero  18 es par.\n",
      "El numero  19 es impar\n",
      "El numero  20 es par.\n"
     ]
    }
   ],
   "source": [
    "for i in range(1,21):\n",
    "   if i % 2 == 0:\n",
    "    print('El numero ',i,'es par.')\n",
    "   else :\n",
    "    print('El numero ',i, 'es impar')"
   ]
  },
  {
   "attachments": {},
   "cell_type": "markdown",
   "metadata": {},
   "source": [
    "4) En un ciclo for mostrar para los valores entre 0 y 5 el resultado de elevarlo a la potencia igual a 3"
   ]
  },
  {
   "cell_type": "code",
   "execution_count": 30,
   "metadata": {},
   "outputs": [
    {
     "name": "stdout",
     "output_type": "stream",
     "text": [
      "Para el numero  0 elevado a la tercera potencia su resultado es:  0\n",
      "Para el numero  1 elevado a la tercera potencia su resultado es:  1\n",
      "Para el numero  2 elevado a la tercera potencia su resultado es:  8\n",
      "Para el numero  3 elevado a la tercera potencia su resultado es:  27\n",
      "Para el numero  4 elevado a la tercera potencia su resultado es:  64\n"
     ]
    }
   ],
   "source": [
    "for i in range(0,5):\n",
    "    print('Para el numero ',i, 'elevado a la tercera potencia su resultado es: ',i**3)"
   ]
  },
  {
   "attachments": {},
   "cell_type": "markdown",
   "metadata": {},
   "source": [
    "5) Crear una variable que contenga un número entero y realizar un ciclo for la misma cantidad de ciclos"
   ]
  },
  {
   "cell_type": "code",
   "execution_count": 32,
   "metadata": {},
   "outputs": [
    {
     "name": "stdout",
     "output_type": "stream",
     "text": [
      "1\n",
      "2\n",
      "3\n",
      "4\n",
      "5\n"
     ]
    }
   ],
   "source": [
    "g = 5\n",
    "for g in range(0,g):\n",
    "    g += 1\n",
    "    print(g)"
   ]
  },
  {
   "attachments": {},
   "cell_type": "markdown",
   "metadata": {},
   "source": [
    "6) Utilizar un ciclo while para realizar el factorial de un número guardado en una variable, sólo si la variable contiene un número entero mayor a 0"
   ]
  },
  {
   "cell_type": "code",
   "execution_count": 50,
   "metadata": {},
   "outputs": [
    {
     "name": "stdout",
     "output_type": "stream",
     "text": [
      "El factorial del numero es 3628800\n"
     ]
    }
   ],
   "source": [
    "n = 10\n",
    "if (type(n) == int): #aca se compara si el numero es un entero\n",
    "    if (n > 0): #aca se compara si el numero es mayor a cero\n",
    "        factorial = n\n",
    "        while (n > 2): #cuando el numero llega a 2 se detiene el bucle\n",
    "            n = n - 1 #se decrementa el numero\n",
    "            factorial = factorial * n #factorial recibe el ultimo resultado de factorial por numero\n",
    "        print('El factorial del numero es', factorial)\n",
    "    else:\n",
    "        print('La variable no es mayor a cero')\n",
    "else:\n",
    "    print('La variable no es un entero')"
   ]
  },
  {
   "attachments": {},
   "cell_type": "markdown",
   "metadata": {},
   "source": [
    "7) Crear un ciclo for dentro de un ciclo while"
   ]
  },
  {
   "cell_type": "code",
   "execution_count": 58,
   "metadata": {},
   "outputs": [
    {
     "name": "stdout",
     "output_type": "stream",
     "text": [
      "1\n",
      "2\n",
      "3\n",
      "4\n",
      "5\n",
      "6\n",
      "7\n",
      "8\n",
      "9\n",
      "10\n"
     ]
    }
   ],
   "source": [
    "var1 = 10\n",
    "while var1 == 10:\n",
    "    for var1 in range(0,var1):\n",
    "        var2=var1+1\n",
    "        print(var2)\n",
    "        \n"
   ]
  },
  {
   "attachments": {},
   "cell_type": "markdown",
   "metadata": {},
   "source": [
    "8) Crear un ciclo while dentro de un ciclo for"
   ]
  },
  {
   "cell_type": "code",
   "execution_count": 74,
   "metadata": {},
   "outputs": [
    {
     "name": "stdout",
     "output_type": "stream",
     "text": [
      "Vuelta 1 del ciclo 'For'\n",
      "-- Vuelta 1 del ciclo 'While'\n",
      "-- Vuelta 2 del ciclo 'While'\n",
      "-- Vuelta 3 del ciclo 'While'\n",
      "-- Vuelta 4 del ciclo 'While'\n",
      "Vuelta 2 del ciclo 'For'\n",
      "-- Vuelta 2 del ciclo 'While'\n",
      "-- Vuelta 3 del ciclo 'While'\n",
      "-- Vuelta 4 del ciclo 'While'\n",
      "Vuelta 3 del ciclo 'For'\n",
      "-- Vuelta 3 del ciclo 'While'\n",
      "-- Vuelta 4 del ciclo 'While'\n"
     ]
    }
   ],
   "source": [
    "\n",
    "for i in range(1, 4):\n",
    "    print(f\"Vuelta {i} del ciclo 'For'\")\n",
    "    num = i\n",
    "    while num < 5:\n",
    "        print(f\"-- Vuelta {num} del ciclo 'While'\")\n",
    "        num += 1\n"
   ]
  },
  {
   "attachments": {},
   "cell_type": "markdown",
   "metadata": {},
   "source": [
    "9) Imprimir los números primos existentes entre 0 y 30"
   ]
  },
  {
   "cell_type": "code",
   "execution_count": 78,
   "metadata": {},
   "outputs": [
    {
     "name": "stdout",
     "output_type": "stream",
     "text": [
      "0\n",
      "1\n",
      "2\n",
      "3\n",
      "5\n",
      "7\n",
      "11\n",
      "13\n",
      "17\n",
      "19\n",
      "23\n",
      "29\n"
     ]
    }
   ],
   "source": [
    "maximo=30\n",
    "n = 0\n",
    "primo = True\n",
    "while (n < maximo):\n",
    "    for div in range(2, n):\n",
    "        if (n % div == 0):\n",
    "            primo = False\n",
    "    if (primo):\n",
    "        print(n)\n",
    "    else:\n",
    "        primo = True\n",
    "    n += 1\n",
    "\n"
   ]
  },
  {
   "attachments": {},
   "cell_type": "markdown",
   "metadata": {},
   "source": [
    "10) ¿Se puede mejorar el proceso del punto 9? Utilizar las sentencias break y/ó continue para tal fin"
   ]
  },
  {
   "cell_type": "code",
   "execution_count": 80,
   "metadata": {},
   "outputs": [
    {
     "name": "stdout",
     "output_type": "stream",
     "text": [
      "0\n",
      "1\n",
      "2\n",
      "3\n",
      "5\n",
      "7\n",
      "11\n",
      "13\n",
      "17\n",
      "19\n",
      "23\n",
      "29\n"
     ]
    }
   ],
   "source": [
    "n = 0\n",
    "primo = True\n",
    "while (n < 30):\n",
    "    for div in range(2, n):\n",
    "        if (n % div == 0):\n",
    "            primo = False\n",
    "            break\n",
    "    if (primo):\n",
    "        print(n)\n",
    "    else:\n",
    "        primo = True\n",
    "    n += 1"
   ]
  },
  {
   "attachments": {},
   "cell_type": "markdown",
   "metadata": {},
   "source": [
    "11) En los puntos 9 y 10, se diseño un código que encuentra números primos y además se lo optimizó. ¿Es posible saber en qué medida se optimizó?"
   ]
  },
  {
   "cell_type": "code",
   "execution_count": 86,
   "metadata": {},
   "outputs": [
    {
     "name": "stdout",
     "output_type": "stream",
     "text": [
      "0\n",
      "1\n",
      "2\n",
      "3\n",
      "5\n",
      "7\n",
      "11\n",
      "13\n",
      "17\n",
      "19\n",
      "23\n",
      "29\n",
      "Cantidad de ciclos sin break:  378\n"
     ]
    }
   ],
   "source": [
    "ciclo = 0\n",
    "maximo=30\n",
    "n = 0\n",
    "primo = True\n",
    "while (n < maximo):\n",
    "    for div in range(2, n):\n",
    "        ciclo +=1\n",
    "        if (n % div == 0):\n",
    "            primo = False\n",
    "\n",
    "    if (primo):\n",
    "        print(n)\n",
    "    else:\n",
    "        primo = True\n",
    "    n += 1\n",
    "print('Cantidad de ciclos sin break: ', ciclo) "
   ]
  },
  {
   "cell_type": "code",
   "execution_count": 90,
   "metadata": {},
   "outputs": [
    {
     "name": "stdout",
     "output_type": "stream",
     "text": [
      "0\n",
      "1\n",
      "2\n",
      "3\n",
      "5\n",
      "7\n",
      "11\n",
      "13\n",
      "17\n",
      "19\n",
      "23\n",
      "29\n",
      "Cantidad de ciclos con break:  134\n"
     ]
    }
   ],
   "source": [
    "ciclo = 0\n",
    "n = 0\n",
    "primo = True\n",
    "while (n < 30):\n",
    "    for div in range(2, n):\n",
    "        ciclo += 1\n",
    "        if (n % div == 0):\n",
    "            primo = False\n",
    "            break\n",
    "    if (primo):\n",
    "            print(n)\n",
    "    else:\n",
    "            primo = True\n",
    "    n += 1\n",
    "print('Cantidad de ciclos con break: ',ciclo)       "
   ]
  },
  {
   "attachments": {},
   "cell_type": "markdown",
   "metadata": {},
   "source": [
    "12) Si la cantidad de números que se evalúa es mayor a treinta, esa optimización crece?"
   ]
  },
  {
   "attachments": {},
   "cell_type": "markdown",
   "metadata": {},
   "source": [
    "No crece se mantiene igual con el break"
   ]
  },
  {
   "cell_type": "code",
   "execution_count": 91,
   "metadata": {},
   "outputs": [
    {
     "name": "stdout",
     "output_type": "stream",
     "text": [
      "0\n",
      "1\n",
      "2\n",
      "3\n",
      "5\n",
      "7\n",
      "11\n",
      "13\n",
      "17\n",
      "19\n",
      "23\n",
      "29\n",
      "31\n",
      "37\n",
      "41\n",
      "43\n",
      "47\n",
      "Cantidad de ciclos sin break:  1128\n"
     ]
    }
   ],
   "source": [
    "ciclo = 0\n",
    "maximo=50\n",
    "n = 0\n",
    "primo = True\n",
    "while (n < maximo):\n",
    "    for div in range(2, n):\n",
    "        ciclo +=1\n",
    "        if (n % div == 0):\n",
    "            primo = False\n",
    "\n",
    "    if (primo):\n",
    "        print(n)\n",
    "    else:\n",
    "        primo = True\n",
    "    n += 1\n",
    "print('Cantidad de ciclos sin break: ', ciclo)"
   ]
  },
  {
   "cell_type": "code",
   "execution_count": 92,
   "metadata": {},
   "outputs": [
    {
     "name": "stdout",
     "output_type": "stream",
     "text": [
      "0\n",
      "1\n",
      "2\n",
      "3\n",
      "5\n",
      "7\n",
      "11\n",
      "13\n",
      "17\n",
      "19\n",
      "23\n",
      "29\n",
      "31\n",
      "37\n",
      "41\n",
      "43\n",
      "47\n",
      "Cantidad de ciclos con break:  349\n"
     ]
    }
   ],
   "source": [
    "ciclo = 0\n",
    "n = 0\n",
    "primo = True\n",
    "while (n < 50):\n",
    "    for div in range(2, n):\n",
    "        ciclo += 1\n",
    "        if (n % div == 0):\n",
    "            primo = False\n",
    "            break\n",
    "    if (primo):\n",
    "            print(n)\n",
    "    else:\n",
    "            primo = True\n",
    "    n += 1\n",
    "print('Cantidad de ciclos con break: ',ciclo)"
   ]
  },
  {
   "attachments": {},
   "cell_type": "markdown",
   "metadata": {},
   "source": [
    "13) Aplicando continue, armar un ciclo while que solo imprima los valores divisibles por 12, dentro del rango de números de 100 a 300"
   ]
  },
  {
   "cell_type": "code",
   "execution_count": 105,
   "metadata": {},
   "outputs": [
    {
     "name": "stdout",
     "output_type": "stream",
     "text": [
      "El numero  108 es divisible por 12\n",
      "El numero  120 es divisible por 12\n",
      "El numero  132 es divisible por 12\n",
      "El numero  144 es divisible por 12\n",
      "El numero  156 es divisible por 12\n",
      "El numero  168 es divisible por 12\n",
      "El numero  180 es divisible por 12\n",
      "El numero  192 es divisible por 12\n",
      "El numero  204 es divisible por 12\n",
      "El numero  216 es divisible por 12\n",
      "El numero  228 es divisible por 12\n",
      "El numero  240 es divisible por 12\n",
      "El numero  252 es divisible por 12\n",
      "El numero  264 es divisible por 12\n",
      "El numero  276 es divisible por 12\n",
      "El numero  288 es divisible por 12\n",
      "El numero  300 es divisible por 12\n"
     ]
    }
   ],
   "source": [
    "num=99\n",
    "\n",
    "while num <= 300:\n",
    "    num += 1\n",
    "    if num % 12 != 0:\n",
    "        continue\n",
    "    print('El numero ', num ,'es divisible por 12')\n",
    "        \n"
   ]
  },
  {
   "attachments": {},
   "cell_type": "markdown",
   "metadata": {},
   "source": [
    "14) Utilizar la función **input()** que permite hacer ingresos por teclado, para encontrar números primos y dar la opción al usario de buscar el siguiente"
   ]
  },
  {
   "cell_type": "code",
   "execution_count": 107,
   "metadata": {},
   "outputs": [
    {
     "name": "stdout",
     "output_type": "stream",
     "text": [
      "1\n",
      "¿Desea encontrar el siguiente número primo?\n",
      "2\n",
      "¿Desea encontrar el siguiente número primo?\n",
      "3\n",
      "¿Desea encontrar el siguiente número primo?\n",
      "5\n",
      "¿Desea encontrar el siguiente número primo?\n",
      "7\n",
      "¿Desea encontrar el siguiente número primo?\n",
      "Se finaliza el proceso\n"
     ]
    }
   ],
   "source": [
    "n = 1\n",
    "var1 = 1\n",
    "primo = True\n",
    "while (var1 == 1):\n",
    "    for div in range(2, n):\n",
    "        if (n % div == 0):\n",
    "            primo = False\n",
    "            break\n",
    "    if (primo):\n",
    "        print(n)\n",
    "        print('¿Desea encontrar el siguiente número primo?')\n",
    "        if (input() != '1'):\n",
    "            print('Se finaliza el proceso')\n",
    "            break\n",
    "    else:\n",
    "        primo = True\n",
    "    n += 1"
   ]
  },
  {
   "attachments": {},
   "cell_type": "markdown",
   "metadata": {},
   "source": [
    "15) Crear un ciclo while que encuentre dentro del rango de 100 a 300 el primer número divisible por 3 y además múltiplo de 6"
   ]
  },
  {
   "cell_type": "code",
   "execution_count": 120,
   "metadata": {},
   "outputs": [
    {
     "name": "stdout",
     "output_type": "stream",
     "text": [
      "El numero  102 es divisible por 3\n"
     ]
    }
   ],
   "source": [
    "num=99\n",
    "\n",
    "while num <= 300:\n",
    "    num += 1\n",
    "    if num % 3 == 0:\n",
    "        print('El numero ', num ,'es divisible por 3')\n",
    "        break \n",
    "     "
   ]
  }
 ],
 "metadata": {
  "interpreter": {
   "hash": "c85384e4cb51c8b72350f3a8712cc8351fdc3955e32a27f9b60c6242ab125f01"
  },
  "kernelspec": {
   "display_name": "Python 3 (ipykernel)",
   "language": "python",
   "name": "python3"
  },
  "language_info": {
   "codemirror_mode": {
    "name": "ipython",
    "version": 3
   },
   "file_extension": ".py",
   "mimetype": "text/x-python",
   "name": "python",
   "nbconvert_exporter": "python",
   "pygments_lexer": "ipython3",
   "version": "3.11.2"
  }
 },
 "nbformat": 4,
 "nbformat_minor": 4
}
