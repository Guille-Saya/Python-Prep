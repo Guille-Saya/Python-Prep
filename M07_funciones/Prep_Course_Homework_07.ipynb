{
 "cells": [
  {
   "attachments": {},
   "cell_type": "markdown",
   "metadata": {},
   "source": [
    "## Funciones"
   ]
  },
  {
   "attachments": {},
   "cell_type": "markdown",
   "metadata": {},
   "source": [
    "1) Crear una función que reciba un número como parámetro y devuelva True si es primo y False si no lo es"
   ]
  },
  {
   "cell_type": "code",
   "execution_count": 24,
   "metadata": {},
   "outputs": [],
   "source": [
    "def verifica_primo(numero):\n",
    "    es_primo = True\n",
    "    if numero <= 1:\n",
    "        return None\n",
    "    if numero == 2:\n",
    "        return True\n",
    "    for i in range(2,numero):\n",
    "        if numero%i == 0:\n",
    "            es_primo = False\n",
    "            break\n",
    "\n",
    "    return(es_primo)"
   ]
  },
  {
   "cell_type": "code",
   "execution_count": 25,
   "metadata": {},
   "outputs": [
    {
     "data": {
      "text/plain": [
       "True"
      ]
     },
     "execution_count": 25,
     "metadata": {},
     "output_type": "execute_result"
    }
   ],
   "source": [
    "verifica_primo(5)"
   ]
  },
  {
   "attachments": {},
   "cell_type": "markdown",
   "metadata": {},
   "source": [
    "2) Utilizando la función del punto 1, realizar otra función que reciba de parámetro una lista de números y devuelva sólo aquellos que son primos en otra lista"
   ]
  },
  {
   "cell_type": "code",
   "execution_count": 26,
   "metadata": {},
   "outputs": [],
   "source": [
    "def sacar_primos(lista):\n",
    "    nueva_lista = []  \n",
    "    for elemento in lista: \n",
    "        if verifica_primo(int(elemento)):  \n",
    "            nueva_lista.append(elemento)  \n",
    "    return nueva_lista"
   ]
  },
  {
   "cell_type": "code",
   "execution_count": 27,
   "metadata": {},
   "outputs": [
    {
     "data": {
      "text/plain": [
       "[2, 3, 5, 7]"
      ]
     },
     "execution_count": 27,
     "metadata": {},
     "output_type": "execute_result"
    }
   ],
   "source": [
    "lista2=[1,2,3,4,5,6,7,8,9,10]\n",
    "lis_primos=sacar_primos(lista2)\n",
    "lis_primos"
   ]
  },
  {
   "attachments": {},
   "cell_type": "markdown",
   "metadata": {},
   "source": [
    "3) Crear una función que al recibir una lista de números, devuelva el que más se repite y cuántas veces lo hace. Si hay más de un \"más repetido\", que devuelva cualquiera"
   ]
  },
  {
   "cell_type": "code",
   "execution_count": 29,
   "metadata": {},
   "outputs": [],
   "source": [
    "def numero_mas_repetido(lista):\n",
    "    contador = {}\n",
    "    for num in lista:\n",
    "        if num in contador.keys():\n",
    "            contador[num] += 1\n",
    "        else:\n",
    "            contador[num]=1\n",
    "\n",
    "    maximo_repeticiones = 0\n",
    "    mas_repetido = None\n",
    "    for numero, repeticion in contador.items():\n",
    "        if repeticion > maximo_repeticiones: \n",
    "            maximo_repeticiones = repeticion\n",
    "            mas_repetido = numero\n",
    "\n",
    "\n",
    "    return mas_repetido, maximo_repeticiones"
   ]
  },
  {
   "cell_type": "code",
   "execution_count": 31,
   "metadata": {},
   "outputs": [
    {
     "data": {
      "text/plain": [
       "(5, 4)"
      ]
     },
     "execution_count": 31,
     "metadata": {},
     "output_type": "execute_result"
    }
   ],
   "source": [
    "lis =[10,1,5,6,8,10,22,5,6,4,11,10,9,5,5]\n",
    "numero_mas_repetido(lis)"
   ]
  },
  {
   "attachments": {},
   "cell_type": "markdown",
   "metadata": {},
   "source": [
    "4) A la función del punto 3, agregar un parámetro más, que permita elegir si se requiere el menor o el mayor de los mas repetidos."
   ]
  },
  {
   "cell_type": "code",
   "execution_count": 38,
   "metadata": {},
   "outputs": [],
   "source": [
    "def numero_mas_repetido(lista,modo):\n",
    "    contador = {}\n",
    "    for num in lista:\n",
    "        if num in contador.keys():\n",
    "            contador[num] += 1\n",
    "        else:\n",
    "            contador[num]=1\n",
    "\n",
    "    maximo_repeticiones = 0\n",
    "    mas_repetido = []\n",
    "    for numero, repeticion in contador.items():\n",
    "        if repeticion > maximo_repeticiones: \n",
    "            maximo_repeticiones = repeticion\n",
    "            mas_repetido = [numero]\n",
    "        elif repeticion == maximo_repeticiones:\n",
    "            mas_repetido.append(num)\n",
    "\n",
    "    if modo == 'menor':\n",
    "        mas_repetido_num = min(mas_repetido)\n",
    "    elif modo == 'mayor':\n",
    "        mas_repetido_num =max(mas_repetido)      \n",
    "\n",
    "    return mas_repetido, maximo_repeticiones,contador"
   ]
  },
  {
   "cell_type": "code",
   "execution_count": 37,
   "metadata": {},
   "outputs": [
    {
     "data": {
      "text/plain": [
       "([10, 5], 3)"
      ]
     },
     "execution_count": 37,
     "metadata": {},
     "output_type": "execute_result"
    }
   ],
   "source": [
    "lis =[10,1,5,6,8,10,22,5,6,4,11,10,9,5]\n",
    "numero_mas_repetido(lis,'mayor')"
   ]
  },
  {
   "attachments": {},
   "cell_type": "markdown",
   "metadata": {},
   "source": [
    "5) Crear una función que convierta entre grados Celsius, Farenheit y Kelvin<br>\n",
    "Fórmula 1\t: (°C × 9/5) + 32 = °F<br>\n",
    "Fórmula 2\t: °C + 273.15 = °K<br>\n",
    "Debe recibir 3 parámetros: el valor, la medida de orígen y la medida de destino\n"
   ]
  },
  {
   "cell_type": "code",
   "execution_count": 39,
   "metadata": {},
   "outputs": [],
   "source": [
    "def conversion_grados(valor, origen, destino):\n",
    "    # Función que realiza la conversión de grados entre diferentes unidades\n",
    "    # Parámetros:\n",
    "    # - valor: el valor numérico a convertir\n",
    "    # - origen: la unidad de origen (celsius, farenheit, kelvin)\n",
    "    # - destino: la unidad de destino (celsius, farenheit, kelvin)\n",
    "\n",
    "    if origen == 'celsius':\n",
    "        if destino == 'celsius':\n",
    "            valor_destino = valor  # Si la unidad de origen y destino es la misma, no se realiza ninguna conversión\n",
    "        elif destino == 'farenheit':\n",
    "            valor_destino = (valor * 9 / 5) + 32  # Conversión de Celsius a Farenheit\n",
    "        elif destino == 'kelvin':\n",
    "            valor_destino = valor + 273.15  # Conversión de Celsius a Kelvin\n",
    "        else:\n",
    "            print('Parámetro de Destino incorrecto')  # Mensaje de error si el parámetro de destino no es válido\n",
    "    elif origen == 'farenheit':\n",
    "        if destino == 'celsius':\n",
    "            valor_destino = (valor - 32) * 5 / 9  # Conversión de Farenheit a Celsius\n",
    "        elif destino == 'farenheit':\n",
    "            valor_destino = valor  # Si la unidad de origen y destino es la misma, no se realiza ninguna conversión\n",
    "        elif destino == 'kelvin':\n",
    "            valor_destino = ((valor - 32) * 5 / 9) + 273.15  # Conversión de Farenheit a Kelvin\n",
    "        else:\n",
    "            print('Parámetro de Destino incorrecto')  # Mensaje de error si el parámetro de destino no es válido\n",
    "    elif origen == 'kelvin':\n",
    "        if destino == 'celsius':\n",
    "            valor_destino = valor - 273.15  # Conversión de Kelvin a Celsius\n",
    "        elif destino == 'farenheit':\n",
    "            valor_destino = ((valor - 273.15) * 9 / 5) + 32  # Conversión de Kelvin a Farenheit\n",
    "        elif destino == 'kelvin':\n",
    "            valor_destino = valor  # Si la unidad de origen y destino es la misma, no se realiza ninguna conversión\n",
    "        else:\n",
    "            print('Parámetro de Destino incorrecto')  # Mensaje de error si el parámetro de destino no es válido\n",
    "    else:\n",
    "        print('Parámetro de Origen incorrecto')  # Mensaje de error si el parámetro de origen no es válido\n",
    "    \n",
    "    return valor_destino"
   ]
  },
  {
   "cell_type": "code",
   "execution_count": 40,
   "metadata": {},
   "outputs": [
    {
     "name": "stdout",
     "output_type": "stream",
     "text": [
      "1 grado Celsius a Celsius: 1\n",
      "1 grado Celsius a Kelvin: 274.15\n",
      "1 grado Celsius a Farenheit: 33.8\n",
      "1 grado Kelvin a Celsius: -272.15\n",
      "1 grado Kelvin a Kelvin: 1\n",
      "1 grado Kelvin a Farenheit: -457.87\n",
      "1 grado Farenheit a Celsius: -17.22222222222222\n",
      "1 grado Farenheit a Kelvin: 255.92777777777775\n",
      "1 grado Farenheit a Farenheit: 1\n"
     ]
    }
   ],
   "source": [
    "print('1 grado Celsius a Celsius:', conversion_grados(1, 'celsius', 'celsius'))\n",
    "print('1 grado Celsius a Kelvin:', conversion_grados(1, 'celsius', 'kelvin'))\n",
    "print('1 grado Celsius a Farenheit:', conversion_grados(1, 'celsius', 'farenheit'))\n",
    "print('1 grado Kelvin a Celsius:', conversion_grados(1, 'kelvin', 'celsius'))\n",
    "print('1 grado Kelvin a Kelvin:', conversion_grados(1, 'kelvin', 'kelvin'))\n",
    "print('1 grado Kelvin a Farenheit:', conversion_grados(1, 'kelvin', 'farenheit'))\n",
    "print('1 grado Farenheit a Celsius:', conversion_grados(1, 'farenheit', 'celsius'))\n",
    "print('1 grado Farenheit a Kelvin:', conversion_grados(1, 'farenheit', 'kelvin'))\n",
    "print('1 grado Farenheit a Farenheit:', conversion_grados(1, 'farenheit', 'farenheit'))"
   ]
  },
  {
   "attachments": {},
   "cell_type": "markdown",
   "metadata": {},
   "source": [
    "6) Iterando una lista con los tres valores posibles de temperatura que recibe la función del punto 5, hacer un print para cada combinación de los mismos:"
   ]
  },
  {
   "cell_type": "code",
   "execution_count": 46,
   "metadata": {},
   "outputs": [
    {
     "ename": "NameError",
     "evalue": "name 'temperatura' is not defined",
     "output_type": "error",
     "traceback": [
      "\u001b[1;31m---------------------------------------------------------------------------\u001b[0m",
      "\u001b[1;31mNameError\u001b[0m                                 Traceback (most recent call last)",
      "Cell \u001b[1;32mIn[46], line 6\u001b[0m\n\u001b[0;32m      3\u001b[0m \u001b[39mfor\u001b[39;00m i \u001b[39min\u001b[39;00m unidades:  \n\u001b[0;32m      4\u001b[0m     \u001b[39mfor\u001b[39;00m j \u001b[39min\u001b[39;00m unidades: \n\u001b[1;32m----> 6\u001b[0m         conversion \u001b[39m=\u001b[39m conversion_grados(temperatura,i,j)\n\u001b[0;32m      7\u001b[0m         \u001b[39mprint\u001b[39m(\u001b[39mf\u001b[39m\u001b[39m\"\u001b[39m\u001b[39m{\u001b[39;00mtemperatura\u001b[39m}\u001b[39;00m\u001b[39m grados \u001b[39m\u001b[39m{\u001b[39;00mi\u001b[39m}\u001b[39;00m\u001b[39m\"\u001b[39m)\n",
      "\u001b[1;31mNameError\u001b[0m: name 'temperatura' is not defined"
     ]
    }
   ],
   "source": [
    "unidades = ['celsius', 'kelvin', 'farenheit'] \n",
    "\n",
    "for i in unidades:  \n",
    "    for j in unidades: \n",
    "\n",
    "        conversion = conversion_grados(temperatura,i,j)\n",
    "        print(f\"{temperatura} grados {i}\")"
   ]
  },
  {
   "attachments": {},
   "cell_type": "markdown",
   "metadata": {},
   "source": [
    "7) Armar una función que devuelva el factorial de un número. Tener en cuenta que el usuario puede equivocarse y enviar de parámetro un número no entero o negativo"
   ]
  },
  {
   "cell_type": "code",
   "execution_count": 44,
   "metadata": {},
   "outputs": [],
   "source": [
    "def factorial(numero):\n",
    "    if type(numero) != int or numero < 0:\n",
    "        return None\n",
    "    if numero <= 1:\n",
    "        return 1\n",
    "    \n",
    "    numero = numero * factorial(numero - 1)\n",
    "    return numero"
   ]
  },
  {
   "cell_type": "code",
   "execution_count": 45,
   "metadata": {},
   "outputs": [
    {
     "data": {
      "text/plain": [
       "120"
      ]
     },
     "execution_count": 45,
     "metadata": {},
     "output_type": "execute_result"
    }
   ],
   "source": [
    "factorial(5)"
   ]
  }
 ],
 "metadata": {
  "interpreter": {
   "hash": "c85384e4cb51c8b72350f3a8712cc8351fdc3955e32a27f9b60c6242ab125f01"
  },
  "kernelspec": {
   "display_name": "Python 3 (ipykernel)",
   "language": "python",
   "name": "python3"
  },
  "language_info": {
   "codemirror_mode": {
    "name": "ipython",
    "version": 3
   },
   "file_extension": ".py",
   "mimetype": "text/x-python",
   "name": "python",
   "nbconvert_exporter": "python",
   "pygments_lexer": "ipython3",
   "version": "3.11.2"
  }
 },
 "nbformat": 4,
 "nbformat_minor": 4
}
