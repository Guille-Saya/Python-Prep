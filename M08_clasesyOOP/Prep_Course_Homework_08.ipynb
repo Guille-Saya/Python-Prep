{
 "cells": [
  {
   "attachments": {},
   "cell_type": "markdown",
   "metadata": {},
   "source": [
    "## Clases y Programación Orientada a Objetos"
   ]
  },
  {
   "attachments": {},
   "cell_type": "markdown",
   "metadata": {},
   "source": [
    "1) Crear la clase vehículo que contenga los atributos:<br>\n",
    "Color<br>\n",
    "Si es moto, auto, camioneta ó camión<br>\n",
    "Cilindrada del motor"
   ]
  },
  {
   "cell_type": "code",
   "execution_count": 2,
   "metadata": {},
   "outputs": [],
   "source": [
    "class Vehiculo:\n",
    "    def __init__(self,color,tipo,cilindrada):#iniciador o constructor con los parametros\n",
    "        \"\"\"\n",
    "        aca se empiezana definir las clases \n",
    "        \"\"\"\n",
    "        self.color = color \n",
    "        self.tipo = tipo\n",
    "        self.cilindrada = cilindrada"
   ]
  },
  {
   "cell_type": "code",
   "execution_count": 3,
   "metadata": {},
   "outputs": [],
   "source": [
    "auto1 = Vehiculo(color=\"azul\",tipo=\"auto\",cilindrada=2.5)"
   ]
  },
  {
   "cell_type": "code",
   "execution_count": 4,
   "metadata": {},
   "outputs": [
    {
     "data": {
      "text/plain": [
       "<__main__.Vehiculo at 0x1cfff72a450>"
      ]
     },
     "execution_count": 4,
     "metadata": {},
     "output_type": "execute_result"
    }
   ],
   "source": [
    "auto1"
   ]
  },
  {
   "cell_type": "code",
   "execution_count": 5,
   "metadata": {},
   "outputs": [
    {
     "data": {
      "text/plain": [
       "2.5"
      ]
     },
     "execution_count": 5,
     "metadata": {},
     "output_type": "execute_result"
    }
   ],
   "source": [
    "auto1.cilindrada"
   ]
  },
  {
   "attachments": {},
   "cell_type": "markdown",
   "metadata": {},
   "source": [
    "2) A la clase Vehiculo creada en el punto 1, agregar los siguientes métodos:<br>\n",
    "Acelerar<br>\n",
    "Frenar<br>\n",
    "Doblar<br>"
   ]
  },
  {
   "cell_type": "code",
   "execution_count": 6,
   "metadata": {},
   "outputs": [],
   "source": [
    "class Vehiculo:\n",
    "    def __init__(self,color,clase,cilindrada):\n",
    "        self.color = color\n",
    "        self.clase = clase\n",
    "        self.cilindrada = cilindrada\n",
    "        self.velocidad = 0 #se inicializa la velocidad\n",
    "        self.direccion = 0 #se inicializa la direccion en grados\n",
    "\n",
    "    def Acelerar (self, vel): #aca el metodo recibe el valor \"vel\" que incrementa la velociddad\n",
    "        self.velocidad += vel #aca incrementa la velocidad\n",
    "\n",
    "    def Frenar (self, vel): #aca el metodo recibe \"vel\" y disminuye la velocidad\n",
    "        self.velocidad -= vel #aca ejecuta el descuento\n",
    "\n",
    "    def Doblar (self, grados): #el metodo recibe el valor \"grados\" y lo incrementa a la direccion\n",
    "        self.direccion += grados\n"
   ]
  },
  {
   "attachments": {},
   "cell_type": "markdown",
   "metadata": {},
   "source": [
    "3) Instanciar 3 objetos de la clase vehículo y ejecutar sus métodos, probar luego el resultado"
   ]
  },
  {
   "cell_type": "code",
   "execution_count": 7,
   "metadata": {},
   "outputs": [],
   "source": [
    "auto1 = Vehiculo ('Rojo','Auto','1.5 cc') #se crean los datos de el vehiculo 1\n",
    "auto2 = Vehiculo ('Gris','Moto','750 cc') #se crean los datos del vehiculo 2\n",
    "auto3 = Vehiculo ('Azul','Camioneta','3.0 cc') #se crean los datos del vehiculo 3"
   ]
  },
  {
   "cell_type": "code",
   "execution_count": 10,
   "metadata": {},
   "outputs": [
    {
     "data": {
      "text/plain": [
       "30"
      ]
     },
     "execution_count": 10,
     "metadata": {},
     "output_type": "execute_result"
    }
   ],
   "source": [
    "auto1.velocidad"
   ]
  },
  {
   "cell_type": "code",
   "execution_count": 11,
   "metadata": {},
   "outputs": [],
   "source": [
    "auto1.Acelerar(30)\n",
    "auto2.Acelerar(50)\n",
    "auto3.Acelerar(45)\n",
    "\n",
    "auto1.Frenar(15)\n",
    "auto2.Frenar(10)\n",
    "auto3.Frenar(18)\n",
    "\n",
    "auto1.Doblar(36)\n",
    "auto2.Doblar(46)\n",
    "auto3.Doblar(-25)"
   ]
  },
  {
   "cell_type": "code",
   "execution_count": 12,
   "metadata": {},
   "outputs": [
    {
     "data": {
      "text/plain": [
       "81"
      ]
     },
     "execution_count": 12,
     "metadata": {},
     "output_type": "execute_result"
    }
   ],
   "source": [
    "auto2.velocidad\n",
    "auto3.velocidad"
   ]
  },
  {
   "attachments": {},
   "cell_type": "markdown",
   "metadata": {},
   "source": [
    "4) Agregar a la clase Vehiculo, un método que muestre su estado, es decir, a que velocidad se encuentra y su dirección. Y otro método que muestre color, tipo y cilindrada"
   ]
  },
  {
   "cell_type": "code",
   "execution_count": 13,
   "metadata": {},
   "outputs": [],
   "source": [
    "class Vehiculo:\n",
    "    def __init__(self, color, tipo, cilindrada):\n",
    "        self.color = color\n",
    "        self.tipo = tipo\n",
    "        self.cilindrada = cilindrada\n",
    "        self.velocidad = 0\n",
    "        self.direccion = 0\n",
    "\n",
    "    def Acelerar(self, vel):\n",
    "        self.velocidad += vel\n",
    "\n",
    "    def Frenar(self, vel):\n",
    "        self.velocidad -= vel\n",
    "\n",
    "    def Doblar(self, grados):\n",
    "        self.direccion += grados\n",
    "\n",
    "    def Estado(self):\n",
    "        print(f'La velocidad del vehiculo es {self.velocidad} y se dirige a {self.direccion} grados')\n",
    "\n",
    "    def Detalle(self):\n",
    "        print(f'El color del vehiculo es {self.color}, soy un {self.tipo} y tengo {self.cilindrada} de cilindrada')\n",
    "  "
   ]
  },
  {
   "cell_type": "code",
   "execution_count": 14,
   "metadata": {},
   "outputs": [
    {
     "name": "stdout",
     "output_type": "stream",
     "text": [
      "El color del vehiculo es Rojo, soy un Auto y tengo 1.5 cc de cilindrada\n",
      "El color del vehiculo es Gris, soy un Moto y tengo 750 cc de cilindrada\n",
      "El color del vehiculo es Azul, soy un Camioneta y tengo 3.0 cc de cilindrada\n"
     ]
    }
   ],
   "source": [
    "auto1 = Vehiculo ('Rojo','Auto','1.5 cc')\n",
    "auto1.Detalle() \n",
    "auto2 = Vehiculo ('Gris','Moto','750 cc')\n",
    "auto2.Detalle() \n",
    "auto3 = Vehiculo ('Azul','Camioneta','3.0 cc')\n",
    "auto3.Detalle()"
   ]
  },
  {
   "cell_type": "code",
   "execution_count": 16,
   "metadata": {},
   "outputs": [
    {
     "name": "stdout",
     "output_type": "stream",
     "text": [
      "La velocidad del vehiculo es 10 y se dirige a 0 grados\n",
      "La velocidad del vehiculo es 20 y se dirige a 0 grados\n",
      "La velocidad del vehiculo es 15 y se dirige a 0 grados\n",
      "La velocidad del vehiculo es 30 y se dirige a 0 grados\n",
      "La velocidad del vehiculo es 50 y se dirige a 0 grados\n",
      "La velocidad del vehiculo es 100 y se dirige a 0 grados\n"
     ]
    }
   ],
   "source": [
    "auto1.Estado()\n",
    "auto1.Acelerar(10)\n",
    "auto1.Estado()\n",
    "auto2.Estado()\n",
    "auto2.Acelerar(15)\n",
    "auto2.Estado()\n",
    "auto3.Estado()\n",
    "auto3.Acelerar(50)\n",
    "auto3.Estado()"
   ]
  },
  {
   "attachments": {},
   "cell_type": "markdown",
   "metadata": {},
   "source": [
    "5) Crear una clase que permita utilizar las funciones creadas en la práctica del módulo 7<br>\n",
    "Verificar Primo<br>\n",
    "Valor modal<br>\n",
    "Conversión grados<br>\n",
    "Factorial<br>"
   ]
  },
  {
   "cell_type": "code",
   "execution_count": 17,
   "metadata": {},
   "outputs": [],
   "source": [
    "class Herramientas:\n",
    "    def __init__(self):\n",
    "        pass\n",
    "\n",
    "    def verifica_primo(self, numero):\n",
    "        es_primo = True\n",
    "        if numero <= 1:\n",
    "            return None\n",
    "        if numero == 2:\n",
    "            return True\n",
    "        for i in range(2, numero):\n",
    "            if numero % i == 0:\n",
    "                es_primo = False\n",
    "                break\n",
    "        return es_primo\n",
    "\n",
    "    def sacar_primos(self, lista):\n",
    "        nueva_lista = []  \n",
    "        for elemento in lista: \n",
    "            if self.verifica_primo(int(elemento)):  \n",
    "                nueva_lista.append(elemento)  \n",
    "        return nueva_lista\n",
    "\n",
    "    def numero_mas_repetido(self, lista):\n",
    "        contador = {}\n",
    "        for num in lista:\n",
    "            if num in contador.keys():\n",
    "                contador[num] += 1\n",
    "            else:\n",
    "                contador[num] = 1\n",
    "\n",
    "        maximo_repeticiones = 0\n",
    "        mas_repetido = None\n",
    "        for numero, repeticion in contador.items():\n",
    "            if repeticion > maximo_repeticiones: \n",
    "                maximo_repeticiones = repeticion\n",
    "                mas_repetido = numero\n",
    "\n",
    "        return mas_repetido, maximo_repeticiones\n",
    "\n",
    "    def numero_mas_repetido(self, lista, modo):\n",
    "        contador = {}\n",
    "        for num in lista:\n",
    "            if num in contador.keys():\n",
    "                contador[num] += 1\n",
    "            else:\n",
    "                contador[num] = 1\n",
    "\n",
    "        maximo_repeticiones = 0\n",
    "        mas_repetido = []\n",
    "        for numero, repeticion in contador.items():\n",
    "            if repeticion > maximo_repeticiones: \n",
    "                maximo_repeticiones = repeticion\n",
    "                mas_repetido = [numero]\n",
    "            elif repeticion == maximo_repeticiones:\n",
    "                mas_repetido.append(num)\n",
    "\n",
    "        if modo == 'menor':\n",
    "            mas_repetido_num = min(mas_repetido)\n",
    "        elif modo == 'mayor':\n",
    "            mas_repetido_num = max(mas_repetido)      \n",
    "\n",
    "        return mas_repetido, maximo_repeticiones\n",
    "\n",
    "    def conversion_grados(self, valor, origen, destino):\n",
    "        if origen == 'celsius':\n",
    "            if destino == 'celsius':\n",
    "                valor_destino = valor\n",
    "            elif destino == 'farenheit':\n",
    "                valor_destino = (valor * 9 / 5) + 32\n",
    "            elif destino == 'kelvin':\n",
    "                valor_destino = valor + 273.15\n",
    "            else:\n",
    "                print('Parámetro de Destino incorrecto')\n",
    "        elif origen == 'farenheit':\n",
    "            if destino == 'celsius':\n",
    "                valor_destino = (valor - 32) * 5 / 9\n",
    "            elif destino == 'farenheit':\n",
    "                valor_destino = valor\n",
    "            elif destino == 'kelvin':\n",
    "                valor_destino = ((valor - 32) * 5 / 9) + 273.15\n",
    "            else:\n",
    "                print('Parámetro de Destino incorrecto')\n",
    "        elif origen == 'kelvin':\n",
    "            if destino == 'celsius':\n",
    "                valor_destino = valor - 273.15\n",
    "            elif destino == 'farenheit':\n",
    "                valor_destino = ((valor - 273.15) * 9 / 5) + 32\n",
    "            elif destino == 'kelvin':\n",
    "                valor_destino = valor\n",
    "            else:\n",
    "                print('Parámetro de Destino incorrecto')\n",
    "        else:\n",
    "            print('Parámetro de Origen incorrecto')\n",
    "        return valor_destino\n",
    "\n",
    "    def factorial(self, numero):\n",
    "        if type(numero) != int or numero < 0:\n",
    "            return None\n",
    "        if numero <= 1:\n",
    "            return 1\n",
    "        numero = numero * self.factorial(numero - 1)\n",
    "        return numero\n"
   ]
  },
  {
   "cell_type": "code",
   "execution_count": 24,
   "metadata": {},
   "outputs": [],
   "source": [
    "h = Herramientas()"
   ]
  },
  {
   "cell_type": "code",
   "execution_count": 25,
   "metadata": {},
   "outputs": [
    {
     "data": {
      "text/plain": [
       "True"
      ]
     },
     "execution_count": 25,
     "metadata": {},
     "output_type": "execute_result"
    }
   ],
   "source": [
    "h.verifica_primo(5)"
   ]
  },
  {
   "cell_type": "code",
   "execution_count": 26,
   "metadata": {},
   "outputs": [
    {
     "data": {
      "text/plain": [
       "120"
      ]
     },
     "execution_count": 26,
     "metadata": {},
     "output_type": "execute_result"
    }
   ],
   "source": [
    "h.factorial(5)"
   ]
  },
  {
   "attachments": {},
   "cell_type": "markdown",
   "metadata": {},
   "source": [
    "6) Probar las funciones incorporadas en la clase del punto 5"
   ]
  },
  {
   "cell_type": "code",
   "execution_count": 27,
   "metadata": {},
   "outputs": [
    {
     "ename": "TypeError",
     "evalue": "Herramientas.numero_mas_repetido() missing 1 required positional argument: 'modo'",
     "output_type": "error",
     "traceback": [
      "\u001b[1;31m---------------------------------------------------------------------------\u001b[0m",
      "\u001b[1;31mTypeError\u001b[0m                                 Traceback (most recent call last)",
      "Cell \u001b[1;32mIn[27], line 2\u001b[0m\n\u001b[0;32m      1\u001b[0m listado \u001b[39m=\u001b[39m [\u001b[39m1\u001b[39m,\u001b[39m8\u001b[39m,\u001b[39m2\u001b[39m,\u001b[39m5\u001b[39m,\u001b[39m4\u001b[39m,\u001b[39m8\u001b[39m,\u001b[39m10\u001b[39m,\u001b[39m7\u001b[39m,\u001b[39m2\u001b[39m]\n\u001b[1;32m----> 2\u001b[0m h\u001b[39m.\u001b[39;49mnumero_mas_repetido(listado)\n",
      "\u001b[1;31mTypeError\u001b[0m: Herramientas.numero_mas_repetido() missing 1 required positional argument: 'modo'"
     ]
    }
   ],
   "source": [
    "listado = [1,8,2,5,4,8,10,7,2]\n",
    "h.numero_mas_repetido(listado)"
   ]
  },
  {
   "attachments": {},
   "cell_type": "markdown",
   "metadata": {},
   "source": [
    "7) Es necesario que la clase creada en el punto 5 contenga una lista, sobre la cual se apliquen las funciones incorporadas"
   ]
  },
  {
   "cell_type": "code",
   "execution_count": null,
   "metadata": {},
   "outputs": [],
   "source": [
    "class Herramientas:\n",
    "    def __init__(self,lista_numeros):\n",
    "        self.lista = lista_numeros\n",
    "\n",
    "        def verifica_primo(self):\n",
    "            for i in self.lista:\n",
    "                print('El elemnto',i,'si es un numero primo')\n",
    "\n",
    "    def sacar_primos(self, lista):\n",
    "        nueva_lista = []  \n",
    "        for elemento in lista: \n",
    "            if self.verifica_primo(int(elemento)):  \n",
    "                nueva_lista.append(elemento)  \n",
    "        return nueva_lista\n",
    "\n",
    "    def numero_mas_repetido(self, lista):\n",
    "        contador = {}\n",
    "        for num in lista:\n",
    "            if num in contador.keys():\n",
    "                contador[num] += 1\n",
    "            else:\n",
    "                contador[num] = 1\n",
    "\n",
    "        maximo_repeticiones = 0\n",
    "        mas_repetido = None\n",
    "        for numero, repeticion in contador.items():\n",
    "            if repeticion > maximo_repeticiones: \n",
    "                maximo_repeticiones = repeticion\n",
    "                mas_repetido = numero\n",
    "\n",
    "        return mas_repetido, maximo_repeticiones\n",
    "\n",
    "    def numero_mas_repetido(self, lista, modo):\n",
    "        contador = {}\n",
    "        for num in lista:\n",
    "            if num in contador.keys():\n",
    "                contador[num] += 1\n",
    "            else:\n",
    "                contador[num] = 1\n",
    "\n",
    "        maximo_repeticiones = 0\n",
    "        mas_repetido = []\n",
    "        for numero, repeticion in contador.items():\n",
    "            if repeticion > maximo_repeticiones: \n",
    "                maximo_repeticiones = repeticion\n",
    "                mas_repetido = [numero]\n",
    "            elif repeticion == maximo_repeticiones:\n",
    "                mas_repetido.append(num)\n",
    "\n",
    "        if modo == 'menor':\n",
    "            mas_repetido_num = min(mas_repetido)\n",
    "        elif modo == 'mayor':\n",
    "            mas_repetido_num = max(mas_repetido)      \n",
    "\n",
    "        return mas_repetido, maximo_repeticiones\n",
    "\n",
    "    def conversion_grados(self, valor, origen, destino):\n",
    "        if origen == 'celsius':\n",
    "            if destino == 'celsius':\n",
    "                valor_destino = valor\n",
    "            elif destino == 'farenheit':\n",
    "                valor_destino = (valor * 9 / 5) + 32\n",
    "            elif destino == 'kelvin':\n",
    "                valor_destino = valor + 273.15\n",
    "            else:\n",
    "                print('Parámetro de Destino incorrecto')\n",
    "        elif origen == 'farenheit':\n",
    "            if destino == 'celsius':\n",
    "                valor_destino = (valor - 32) * 5 / 9\n",
    "            elif destino == 'farenheit':\n",
    "                valor_destino = valor\n",
    "            elif destino == 'kelvin':\n",
    "                valor_destino = ((valor - 32) * 5 / 9) + 273.15\n",
    "            else:\n",
    "                print('Parámetro de Destino incorrecto')\n",
    "        elif origen == 'kelvin':\n",
    "            if destino == 'celsius':\n",
    "                valor_destino = valor - 273.15\n",
    "            elif destino == 'farenheit':\n",
    "                valor_destino = ((valor - 273.15) * 9 / 5) + 32\n",
    "            elif destino == 'kelvin':\n",
    "                valor_destino = valor\n",
    "            else:\n",
    "                print('Parámetro de Destino incorrecto')\n",
    "        else:\n",
    "            print('Parámetro de Origen incorrecto')\n",
    "        return valor_destino\n",
    "\n",
    "    def factorial(self, numero):\n",
    "        if type(numero) != int or numero < 0:\n",
    "            return None\n",
    "        if numero <= 1:\n",
    "            return 1\n",
    "        numero = numero * self.factorial(numero - 1)\n",
    "        return numero"
   ]
  },
  {
   "attachments": {},
   "cell_type": "markdown",
   "metadata": {},
   "source": [
    "8) Crear un archivo .py aparte y ubicar allí la clase generada en el punto anterior. Luego realizar la importación del módulo y probar alguna de sus funciones"
   ]
  },
  {
   "cell_type": "code",
   "execution_count": null,
   "metadata": {},
   "outputs": [],
   "source": []
  }
 ],
 "metadata": {
  "interpreter": {
   "hash": "c85384e4cb51c8b72350f3a8712cc8351fdc3955e32a27f9b60c6242ab125f01"
  },
  "kernelspec": {
   "display_name": "Python 3 (ipykernel)",
   "language": "python",
   "name": "python3"
  },
  "language_info": {
   "codemirror_mode": {
    "name": "ipython",
    "version": 3
   },
   "file_extension": ".py",
   "mimetype": "text/x-python",
   "name": "python",
   "nbconvert_exporter": "python",
   "pygments_lexer": "ipython3",
   "version": "3.11.2"
  }
 },
 "nbformat": 4,
 "nbformat_minor": 4
}
