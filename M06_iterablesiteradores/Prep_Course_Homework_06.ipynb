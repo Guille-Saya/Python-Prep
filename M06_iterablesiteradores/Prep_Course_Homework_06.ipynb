{
 "cells": [
  {
   "attachments": {},
   "cell_type": "markdown",
   "metadata": {},
   "source": [
    "## Iteradores e iterables"
   ]
  },
  {
   "attachments": {},
   "cell_type": "markdown",
   "metadata": {},
   "source": [
    "1) A partir de una lista vacía, utilizar un ciclo while para cargar allí números negativos del -15 al -1"
   ]
  },
  {
   "cell_type": "code",
   "execution_count": 18,
   "metadata": {},
   "outputs": [
    {
     "name": "stdout",
     "output_type": "stream",
     "text": [
      "[-15]\n",
      "[-15, -14]\n",
      "[-15, -14, -13]\n",
      "[-15, -14, -13, -12]\n",
      "[-15, -14, -13, -12, -11]\n",
      "[-15, -14, -13, -12, -11, -10]\n",
      "[-15, -14, -13, -12, -11, -10, -9]\n",
      "[-15, -14, -13, -12, -11, -10, -9, -8]\n",
      "[-15, -14, -13, -12, -11, -10, -9, -8, -7]\n",
      "[-15, -14, -13, -12, -11, -10, -9, -8, -7, -6]\n",
      "[-15, -14, -13, -12, -11, -10, -9, -8, -7, -6, -5]\n",
      "[-15, -14, -13, -12, -11, -10, -9, -8, -7, -6, -5, -4]\n",
      "[-15, -14, -13, -12, -11, -10, -9, -8, -7, -6, -5, -4, -3]\n",
      "[-15, -14, -13, -12, -11, -10, -9, -8, -7, -6, -5, -4, -3, -2]\n",
      "[-15, -14, -13, -12, -11, -10, -9, -8, -7, -6, -5, -4, -3, -2, -1]\n"
     ]
    }
   ],
   "source": [
    "i=-15\n",
    "negativo=[]\n",
    "while i < 0:\n",
    "    negativo.append(i)\n",
    "    i +=1\n",
    "    print(negativo)\n"
   ]
  },
  {
   "cell_type": "code",
   "execution_count": 17,
   "metadata": {},
   "outputs": [
    {
     "data": {
      "text/plain": [
       "list"
      ]
     },
     "execution_count": 17,
     "metadata": {},
     "output_type": "execute_result"
    }
   ],
   "source": [
    "type(negativo)"
   ]
  },
  {
   "attachments": {},
   "cell_type": "markdown",
   "metadata": {},
   "source": [
    "2) ¿Con un ciclo while sería posible recorrer la lista para imprimir sólo los números pares?"
   ]
  },
  {
   "cell_type": "code",
   "execution_count": 30,
   "metadata": {},
   "outputs": [
    {
     "name": "stdout",
     "output_type": "stream",
     "text": [
      "-14\n",
      "-12\n",
      "-10\n",
      "-8\n",
      "-6\n",
      "-4\n",
      "-2\n"
     ]
    }
   ],
   "source": [
    "i=0\n",
    "while i < len(negativo):\n",
    "    if negativo[i] % 2 == 0:\n",
    "        print(negativo[i])\n",
    "    i += 1"
   ]
  },
  {
   "attachments": {},
   "cell_type": "markdown",
   "metadata": {},
   "source": [
    "3) Resolver el punto anterior sin utilizar un ciclo while"
   ]
  },
  {
   "cell_type": "code",
   "execution_count": 55,
   "metadata": {},
   "outputs": [
    {
     "name": "stdout",
     "output_type": "stream",
     "text": [
      "-14\n",
      "-12\n",
      "-10\n",
      "-8\n",
      "-6\n",
      "-4\n",
      "-2\n"
     ]
    }
   ],
   "source": [
    "\n",
    "for i in negativo:\n",
    "    if i % 2 == 0:\n",
    "        print(i)\n"
   ]
  },
  {
   "attachments": {},
   "cell_type": "markdown",
   "metadata": {},
   "source": [
    "4) Utilizar el iterable para recorrer sólo los primeros 3 elementos"
   ]
  },
  {
   "cell_type": "code",
   "execution_count": 75,
   "metadata": {},
   "outputs": [
    {
     "name": "stdout",
     "output_type": "stream",
     "text": [
      "(0, -15)\n",
      "(1, -14)\n",
      "(2, -13)\n"
     ]
    }
   ],
   "source": [
    "\n",
    "for i in enumerate(negativo[:3]):\n",
    "        print(i)"
   ]
  },
  {
   "attachments": {},
   "cell_type": "markdown",
   "metadata": {},
   "source": [
    "5) Utilizar la función **enumerate** para obtener dentro del iterable, tambien el índice al que corresponde el elemento"
   ]
  },
  {
   "cell_type": "code",
   "execution_count": 83,
   "metadata": {},
   "outputs": [
    {
     "name": "stdout",
     "output_type": "stream",
     "text": [
      "Para el indice  0 corresponde el elemento  -15\n",
      "Para el indice  1 corresponde el elemento  -14\n",
      "Para el indice  2 corresponde el elemento  -13\n",
      "Para el indice  3 corresponde el elemento  -12\n",
      "Para el indice  4 corresponde el elemento  -11\n",
      "Para el indice  5 corresponde el elemento  -10\n",
      "Para el indice  6 corresponde el elemento  -9\n",
      "Para el indice  7 corresponde el elemento  -8\n",
      "Para el indice  8 corresponde el elemento  -7\n",
      "Para el indice  9 corresponde el elemento  -6\n",
      "Para el indice  10 corresponde el elemento  -5\n",
      "Para el indice  11 corresponde el elemento  -4\n",
      "Para el indice  12 corresponde el elemento  -3\n",
      "Para el indice  13 corresponde el elemento  -2\n",
      "Para el indice  14 corresponde el elemento  -1\n"
     ]
    }
   ],
   "source": [
    "\n",
    "for indice, elemento in enumerate(negativo):\n",
    "        print('Para el indice ',indice, 'corresponde el elemento ',elemento)"
   ]
  },
  {
   "attachments": {},
   "cell_type": "markdown",
   "metadata": {},
   "source": [
    "6) Dada la siguiente lista de números enteros entre 1 y 20, crear un ciclo donde se completen los valores faltantes: lista = [1,2,5,7,8,10,13,14,15,17,20]"
   ]
  },
  {
   "cell_type": "code",
   "execution_count": 68,
   "metadata": {},
   "outputs": [
    {
     "name": "stdout",
     "output_type": "stream",
     "text": [
      "[1, 2, 3, 4, 5, 6, 7, 8, 9, 10, 11, 12, 13, 14, 15, 16, 17, 18, 19, 20]\n"
     ]
    }
   ],
   "source": [
    "lista=[1,2,5,7,8,10,13,14,15,17,20]\n",
    "n=1\n",
    "while n <=20:\n",
    "    if not (n in lista):\n",
    "        lista.insert(n-1,n)\n",
    "    n+=1\n",
    "print(lista)"
   ]
  },
  {
   "attachments": {},
   "cell_type": "markdown",
   "metadata": {},
   "source": [
    "7) La sucesión de Fibonacci es un listado de números que sigue la fórmula: <br>\n",
    "n<sub>0</sub> = 0<br>\n",
    "n<sub>1</sub> = 1<br>\n",
    "n<sub>i</sub> = n<sub>i-1</sub> + n<sub>i-2</sub><br>\n",
    "Crear una lista con los primeros treinta números de la sucesión.<br>"
   ]
  },
  {
   "cell_type": "code",
   "execution_count": 72,
   "metadata": {},
   "outputs": [
    {
     "name": "stdout",
     "output_type": "stream",
     "text": [
      "[0, 1, 1, 2, 3, 5, 8, 13, 21, 34, 55, 89, 144, 233, 377, 610, 987, 1597, 2584, 4181, 6765, 10946, 17711, 28657, 46368, 75025, 121393, 196418, 317811, 514229, 832040]\n"
     ]
    }
   ],
   "source": [
    "suces=[0,1]\n",
    "num=2\n",
    "while num<=30:\n",
    "    suces.append(suces[num-1]+suces[num-2])\n",
    "    num += 1\n",
    "print(suces)"
   ]
  },
  {
   "attachments": {},
   "cell_type": "markdown",
   "metadata": {},
   "source": [
    "8) Realizar la suma de todos elementos de la lista del punto anterior"
   ]
  },
  {
   "cell_type": "code",
   "execution_count": 73,
   "metadata": {},
   "outputs": [
    {
     "name": "stdout",
     "output_type": "stream",
     "text": [
      "2178308\n"
     ]
    }
   ],
   "source": [
    "print(sum(suces))"
   ]
  },
  {
   "attachments": {},
   "cell_type": "markdown",
   "metadata": {},
   "source": [
    "9) La proporción aurea se expresa con una proporción matemática que nace el número irracional Phi= 1,618… que los griegos llamaron número áureo. El cuál se puede aproximar con la sucesión de Fibonacci. Con la lista del ejercicio anterior, imprimir el cociente de los últimos 5 pares de dos números contiguos:<br>\n",
    "Donde i es la cantidad total de elementos<br>\n",
    "n<sub>i-1</sub> / n<sub>i</sub><br>\n",
    "n<sub>i-2</sub> / n<sub>i-1</sub><br>\n",
    "n<sub>i-3</sub> / n<sub>i-2</sub><br>\n",
    "n<sub>i-4</sub> / n<sub>i-3</sub><br>\n",
    "n<sub>i-5</sub> / n<sub>i-4</sub><br>\n",
    " "
   ]
  },
  {
   "cell_type": "code",
   "execution_count": 84,
   "metadata": {},
   "outputs": [
    {
     "data": {
      "text/plain": [
       "1.6180339887482036"
      ]
     },
     "execution_count": 84,
     "metadata": {},
     "output_type": "execute_result"
    }
   ],
   "source": [
    "ultimo = suces[-1]\n",
    "anterior = suces[-2]\n",
    "ultimo/anterior"
   ]
  },
  {
   "cell_type": "code",
   "execution_count": 85,
   "metadata": {},
   "outputs": [
    {
     "data": {
      "text/plain": [
       "31"
      ]
     },
     "execution_count": 85,
     "metadata": {},
     "output_type": "execute_result"
    }
   ],
   "source": [
    "len(suces)"
   ]
  },
  {
   "cell_type": "code",
   "execution_count": 86,
   "metadata": {},
   "outputs": [
    {
     "name": "stdout",
     "output_type": "stream",
     "text": [
      "1.6180339887482036\n",
      "1.6180339887543225\n",
      "1.618033988738303\n",
      "1.6180339887802426\n",
      "1.6180339886704431\n"
     ]
    }
   ],
   "source": [
    "n=len(suces)-1\n",
    "tope=n-5\n",
    "while n > tope:\n",
    "    cociente=suces[n]/suces[n-1]\n",
    "    print(cociente)\n",
    "    n-=1"
   ]
  },
  {
   "attachments": {},
   "cell_type": "markdown",
   "metadata": {},
   "source": [
    "10) A partir de la variable cadena ya dada, mostrar en qué posiciones aparece la letra \"n\"<br>\n",
    "cadena = 'Hola Mundo. Esto es una practica del lenguaje de programación Python'"
   ]
  },
  {
   "cell_type": "code",
   "execution_count": 90,
   "metadata": {},
   "outputs": [
    {
     "name": "stdout",
     "output_type": "stream",
     "text": [
      "7 n\n",
      "21 n\n",
      "39 n\n",
      "60 n\n",
      "67 n\n"
     ]
    }
   ],
   "source": [
    "cadena='Hola mundo. esto es una practica del lenguaje de programacion Python'\n",
    "for i, c in enumerate(cadena):\n",
    "    if c=='n':\n",
    "        print(i,c)"
   ]
  },
  {
   "attachments": {},
   "cell_type": "markdown",
   "metadata": {},
   "source": [
    "11) Crear un diccionario e imprimir sus claves utilizando un iterador"
   ]
  },
  {
   "cell_type": "code",
   "execution_count": 93,
   "metadata": {},
   "outputs": [
    {
     "ename": "AttributeError",
     "evalue": "'builtin_function_or_method' object has no attribute 'keys'",
     "output_type": "error",
     "traceback": [
      "\u001b[1;31m---------------------------------------------------------------------------\u001b[0m",
      "\u001b[1;31mAttributeError\u001b[0m                            Traceback (most recent call last)",
      "Cell \u001b[1;32mIn[93], line 6\u001b[0m\n\u001b[0;32m      1\u001b[0m diccio\u001b[39m=\u001b[39m{\n\u001b[0;32m      2\u001b[0m     \u001b[39m'\u001b[39m\u001b[39manimal\u001b[39m\u001b[39m'\u001b[39m:[\u001b[39m'\u001b[39m\u001b[39mperro\u001b[39m\u001b[39m'\u001b[39m],\n\u001b[0;32m      3\u001b[0m     \u001b[39m'\u001b[39m\u001b[39minsecto\u001b[39m\u001b[39m'\u001b[39m:[\u001b[39m'\u001b[39m\u001b[39mmosquito\u001b[39m\u001b[39m'\u001b[39m],\n\u001b[0;32m      4\u001b[0m     \u001b[39m'\u001b[39m\u001b[39mflora\u001b[39m\u001b[39m'\u001b[39m:[\u001b[39m'\u001b[39m\u001b[39marbol\u001b[39m\u001b[39m'\u001b[39m]\n\u001b[0;32m      5\u001b[0m }\n\u001b[1;32m----> 6\u001b[0m \u001b[39mprint\u001b[39;49m\u001b[39m.\u001b[39;49mkeys\n",
      "\u001b[1;31mAttributeError\u001b[0m: 'builtin_function_or_method' object has no attribute 'keys'"
     ]
    }
   ],
   "source": [
    "diccio={\n",
    "    'animal':['perro'],\n",
    "    'insecto':['mosquito'],\n",
    "    'flora':['arbol']\n",
    "}\n",
    "print.keys"
   ]
  },
  {
   "attachments": {},
   "cell_type": "markdown",
   "metadata": {},
   "source": [
    "12) Convertir en una lista la variable \"cadena\" del punto 10 y luego recorrerla con un iterador "
   ]
  },
  {
   "cell_type": "code",
   "execution_count": 92,
   "metadata": {},
   "outputs": [
    {
     "name": "stdout",
     "output_type": "stream",
     "text": [
      "H\n",
      "o\n",
      "l\n",
      "a\n",
      " \n",
      "m\n",
      "u\n",
      "n\n",
      "d\n",
      "o\n",
      ".\n",
      " \n",
      "e\n",
      "s\n",
      "t\n",
      "o\n",
      " \n",
      "e\n",
      "s\n",
      " \n",
      "u\n",
      "n\n",
      "a\n",
      " \n",
      "p\n",
      "r\n",
      "a\n",
      "c\n",
      "t\n",
      "i\n",
      "c\n",
      "a\n",
      " \n",
      "d\n",
      "e\n",
      "l\n",
      " \n",
      "l\n",
      "e\n",
      "n\n",
      "g\n",
      "u\n",
      "a\n",
      "j\n",
      "e\n",
      " \n",
      "d\n",
      "e\n",
      " \n",
      "p\n",
      "r\n",
      "o\n",
      "g\n",
      "r\n",
      "a\n",
      "m\n",
      "a\n",
      "c\n",
      "i\n",
      "o\n",
      "n\n",
      " \n",
      "P\n",
      "y\n",
      "t\n",
      "h\n",
      "o\n",
      "n\n"
     ]
    }
   ],
   "source": [
    "recorre=iter(cadena)\n",
    "for i in range(len(cadena)):\n",
    "    print(next(recorre))"
   ]
  },
  {
   "attachments": {},
   "cell_type": "markdown",
   "metadata": {},
   "source": [
    "13) Crear dos listas y unirlas en una tupla utilizando la función zip"
   ]
  },
  {
   "cell_type": "code",
   "execution_count": 97,
   "metadata": {},
   "outputs": [
    {
     "name": "stdout",
     "output_type": "stream",
     "text": [
      "<zip object at 0x0000020F9BEB5C00>\n"
     ]
    }
   ],
   "source": [
    "lista1=['perro','gato','sapo']\n",
    "lista2=[1,2,3]\n",
    "combinacion=zip(lista1,lista2)\n",
    "print(combinacion)"
   ]
  },
  {
   "cell_type": "code",
   "execution_count": 98,
   "metadata": {},
   "outputs": [
    {
     "name": "stdout",
     "output_type": "stream",
     "text": [
      "[('perro', 1), ('gato', 2), ('sapo', 3)]\n"
     ]
    }
   ],
   "source": [
    "listazip=list(combinacion)\n",
    "print(listazip)"
   ]
  },
  {
   "attachments": {},
   "cell_type": "markdown",
   "metadata": {},
   "source": [
    "14) A partir de la siguiente lista de números, crear una nueva sólo si el número es divisible por 7<br>\n",
    "lis = [18,21,29,32,35,42,56,60,63,71,84,90,91,100]"
   ]
  },
  {
   "cell_type": "code",
   "execution_count": 99,
   "metadata": {},
   "outputs": [
    {
     "name": "stdout",
     "output_type": "stream",
     "text": [
      "[21, 35, 42, 56, 63, 84, 91]\n"
     ]
    }
   ],
   "source": [
    "lis=[18,21,29,32,35,42,56,60,63,71,84,90,91,100]\n",
    "multiplo=[]\n",
    "for i in lis:\n",
    "    if i % 7 == 0:\n",
    "        multiplo.append(i)\n",
    "print(multiplo)        "
   ]
  },
  {
   "cell_type": "code",
   "execution_count": 100,
   "metadata": {},
   "outputs": [
    {
     "name": "stdout",
     "output_type": "stream",
     "text": [
      "[21, 35, 42, 56, 63, 84, 91]\n"
     ]
    }
   ],
   "source": [
    "multiplo=[i for i in lis if (i % 7) == 0]\n",
    "\n",
    "print(multiplo)"
   ]
  },
  {
   "attachments": {},
   "cell_type": "markdown",
   "metadata": {},
   "source": [
    "15) A partir de la lista de a continuación, contar la cantidad total de elementos que contiene, teniendo en cuenta que un elemento de la lista podría ser otra lista:<br>\n",
    "lis = [[1,2,3,4],'rojo','verde',[True,False,False],['uno','dos','tres']]"
   ]
  },
  {
   "cell_type": "code",
   "execution_count": 103,
   "metadata": {},
   "outputs": [
    {
     "name": "stdout",
     "output_type": "stream",
     "text": [
      "5\n"
     ]
    }
   ],
   "source": [
    "lis=[[1,2,3,4],'rojo','verde',[True,False,False],['uno','dos','tres']]\n",
    "cant=0\n",
    "for elemnto in lis:\n",
    "    if type(elemento)==list:\n",
    "        cant+=len(elemento)\n",
    "    else:\n",
    "        cant+=1\n",
    "print(cant)       "
   ]
  },
  {
   "attachments": {},
   "cell_type": "markdown",
   "metadata": {},
   "source": [
    "16) Tomar la lista del punto anterior y convertir cada elemento en una lista si no lo es"
   ]
  },
  {
   "cell_type": "code",
   "execution_count": 105,
   "metadata": {},
   "outputs": [
    {
     "name": "stdout",
     "output_type": "stream",
     "text": [
      "[[-1], [-1], [-1], [-1], [-1]]\n"
     ]
    }
   ],
   "source": [
    "for indice, elemnto in enumerate(lis):\n",
    "    if type(elemento) != list:\n",
    "        lis[indice]=[elemento]\n",
    "print(lis)"
   ]
  }
 ],
 "metadata": {
  "interpreter": {
   "hash": "c85384e4cb51c8b72350f3a8712cc8351fdc3955e32a27f9b60c6242ab125f01"
  },
  "kernelspec": {
   "display_name": "Python 3 (ipykernel)",
   "language": "python",
   "name": "python3"
  },
  "language_info": {
   "codemirror_mode": {
    "name": "ipython",
    "version": 3
   },
   "file_extension": ".py",
   "mimetype": "text/x-python",
   "name": "python",
   "nbconvert_exporter": "python",
   "pygments_lexer": "ipython3",
   "version": "3.11.2"
  }
 },
 "nbformat": 4,
 "nbformat_minor": 4
}
